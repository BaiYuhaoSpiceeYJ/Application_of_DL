{
 "cells": [
  {
   "cell_type": "code",
   "execution_count": null,
   "metadata": {},
   "outputs": [],
   "source": [
    "import os\n",
    "import subprocess\n",
    "import pickle\n",
    "import glob\n",
    "from music21 import converter, instrument, note, chord, stream#note音符，chord和弦\n",
    "\n",
    "def convert_midi_to_mp3():\n",
    "    \"\"\"\n",
    "    将神经网络生成的 MIDI 文件转成 MP3 文件\n",
    "    \"\"\"\n",
    "    input_file = '.\\\\output\\\\output.mid'\n",
    "    output_file = '.\\\\output\\\\output.mp3'\n",
    "\n",
    "    if not os.path.exists(input_file):\n",
    "        raise Exception(\"MIDI 文件 {} 不在此目录下，请确保此文件被正确生成\".format(input_file))\n",
    "\n",
    "    print('将 {} 转换为 MP3'.format(input_file))\n",
    "\n",
    "    \"\"\"\n",
    "    用 timidity 生成 mp3 文件\n",
    "    # 注意：Windows 用户可能需要用其他命令来将 MIDI 文件转为 MP3 文件\n",
    "    # 注意：Mac 用户貌似 libmp3lame 选项会出错，需要下载编译 libmp3lame，\n",
    "    # 再重新编译 ffmpeg ：http://blog.csdn.net/qinggebuyao/article/details/20933497\n",
    "    # 不过，Mac 用户直接用自带的 GarageBand（车库乐队）可以直接播放生成的 MIDI 文件，比 ffmpeg 生成的 MP3 音色更好\n",
    "    \"\"\"\n",
    "    command = 'timidity {} -Ow -o - | ffmpeg -i - -acodec libmp3lame -ab 64k {}'.format(input_file, output_file)#命令行的命令\n",
    "    #先用timidity提取文件，再用ffmpeg生成MP3\n",
    "    return_code = subprocess.call(command, shell=True)#运行命令\n",
    "\n",
    "    if return_code != 0:\n",
    "        print('转换时出错，请查看出错信息')\n",
    "    else:\n",
    "        print('转换完毕. 生成的文件是 {}'.format(output_file))\n",
    "        \n",
    "convert_midi_to_mp3()"
   ]
  }
 ],
 "metadata": {
  "kernelspec": {
   "display_name": "Python 3",
   "language": "python",
   "name": "python3"
  },
  "language_info": {
   "codemirror_mode": {
    "name": "ipython",
    "version": 3
   },
   "file_extension": ".py",
   "mimetype": "text/x-python",
   "name": "python",
   "nbconvert_exporter": "python",
   "pygments_lexer": "ipython3",
   "version": "3.6.5"
  }
 },
 "nbformat": 4,
 "nbformat_minor": 2
}
