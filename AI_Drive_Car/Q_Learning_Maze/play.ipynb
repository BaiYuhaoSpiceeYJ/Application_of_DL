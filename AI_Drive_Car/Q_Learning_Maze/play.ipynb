{
 "cells": [
  {
   "cell_type": "code",
   "execution_count": 1,
   "metadata": {},
   "outputs": [
    {
     "name": "stdout",
     "output_type": "stream",
     "text": [
      "[0, 1, 2, 3]\n"
     ]
    }
   ],
   "source": [
    "# -*- coding: UTF-8 -*-\n",
    "\n",
    "\"\"\"\n",
    "游戏的主程序，调用机器人的 Q learning 决策大脑 和 Maze 环境\n",
    "\"\"\"\n",
    "\n",
    "from env import Maze\n",
    "from q_learning import QLearning\n",
    "\n",
    "\n",
    "def update():\n",
    "    for episode in range(100):\n",
    "        # 初始化 state（状态）\n",
    "        state = env.reset()\n",
    "\n",
    "        step_count = 0  # 记录走过的步数\n",
    "\n",
    "        while True:\n",
    "            # 更新可视化环境\n",
    "            env.render()\n",
    "\n",
    "            # RL 大脑根据 state 挑选 action\n",
    "            action = RL.choose_action(str(state))\n",
    "\n",
    "            # 探索者在环境中实施这个 action, 并得到环境返回的下一个 state, reward 和 done (是否是踩到炸弹或者找到宝藏)\n",
    "            state_, reward, done = env.step(action)\n",
    "\n",
    "            step_count += 1  # 增加步数\n",
    "\n",
    "            # 机器人大脑从这个过渡（transition） (state, action, reward, state_) 中学习\n",
    "            RL.learn(str(state), action, reward, str(state_))\n",
    "\n",
    "            # 机器人移动到下一个 state\n",
    "            state = state_\n",
    "\n",
    "            # 如果踩到炸弹或者找到宝藏, 这回合就结束了\n",
    "            if done:\n",
    "                print(\"回合 {} 结束. 总步数 : {}\\n\".format(episode+1, step_count))\n",
    "                break\n",
    "\n",
    "    # 结束游戏并关闭窗口\n",
    "    print('游戏结束')\n",
    "    env.destroy()\n",
    "\n",
    "\n",
    "if __name__ == \"__main__\":\n",
    "    # 创建环境 env 和 RL\n",
    "    env = Maze()\n",
    "    RL = QLearning(actions=list(range(env.n_actions)))\n",
    "    print(list(range(env.n_actions)))\n",
    "    # 开始可视化环境\n",
    "    env.after(100, update)\n",
    "    env.mainloop()\n",
    "\n",
    "    print('\\nQ 表:')\n",
    "    print(RL.q_table)\n"
   ]
  },
  {
   "cell_type": "code",
   "execution_count": null,
   "metadata": {},
   "outputs": [],
   "source": []
  }
 ],
 "metadata": {
  "kernelspec": {
   "display_name": "Python 3",
   "language": "python",
   "name": "python3"
  },
  "language_info": {
   "codemirror_mode": {
    "name": "ipython",
    "version": 3
   },
   "file_extension": ".py",
   "mimetype": "text/x-python",
   "name": "python",
   "nbconvert_exporter": "python",
   "pygments_lexer": "ipython3",
   "version": "3.6.5"
  }
 },
 "nbformat": 4,
 "nbformat_minor": 2
}
