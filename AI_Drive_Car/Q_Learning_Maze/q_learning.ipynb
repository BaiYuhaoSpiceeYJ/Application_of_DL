{
 "cells": [
  {
   "cell_type": "code",
   "execution_count": 1,
   "metadata": {},
   "outputs": [],
   "source": [
    "# -*- coding: UTF-8 -*-\n",
    "\n",
    "\"\"\"\n",
    "Q Learning 算法。做决策的部分，相当于机器人的大脑\n",
    "\"\"\"\n",
    "\n",
    "import numpy as np\n",
    "import pandas as pd\n",
    "\n",
    "\n",
    "class QLearning:\n",
    "    def __init__(self, actions, learning_rate=0.01, discount_factor=0.9, e_greedy=0.1):\n",
    "        self.actions = actions        # action 列表\n",
    "        self.lr = learning_rate       # 学习速率\n",
    "        self.gamma = discount_factor  # 折扣因子\n",
    "        self.epsilon = e_greedy       # 贪婪度\n",
    "        self.q_table = pd.DataFrame(columns=self.actions, dtype=np.float32)  # Q 表\n",
    "\n",
    "    # 检测 q_table 中有没有这个 state\n",
    "    # 如果还没有当前 state, 那我们就插入一组全 0 数据, 作为这个 state 的所有 action 的初始值\n",
    "    def check_state_exist(self, state):\n",
    "        if state not in self.q_table.index:\n",
    "            # 插入一组全 0 数据\n",
    "            self.q_table = self.q_table.append(\n",
    "                pd.Series(\n",
    "                    [0] * len(self.actions),\n",
    "                    index=self.q_table.columns,\n",
    "                    name=state,\n",
    "                )\n",
    "            )\n",
    "\n",
    "    # 根据 state 来选择 action\n",
    "    def choose_action(self, state):\n",
    "        self.check_state_exist(state)  # 检测此 state 是否在 q_table 中存在\n",
    "        # 选行为，用 Epsilon Greedy 贪婪方法\n",
    "        if np.random.uniform() < self.epsilon:\n",
    "            # 随机选择 action\n",
    "            action = np.random.choice(self.actions)\n",
    "        else:  # 选择 Q 值最高的 action\n",
    "            state_action = self.q_table.loc[state, :]#返回当前状态的action队列\n",
    "            # 同一个 state, 可能会有多个相同的 Q action 值, 所以我们乱序一下\n",
    "            state_action = state_action.reindex(np.random.permutation(state_action.index))\n",
    "            action = state_action.idxmax()\n",
    "        return action\n",
    "\n",
    "    # 学习。更新 Q 表中的值\n",
    "    def learn(self, s, a, r, s_):\n",
    "        self.check_state_exist(s_)  # 检测 q_table 中是否存在 s_\n",
    "\n",
    "        q_predict = self.q_table.loc[s, a]  # 根据 Q 表得到s状态下行动a的 估计（predict）值\n",
    "\n",
    "        # q_target 是现实值\n",
    "        if s_ != 'terminal':  # 下个 state 不是 终止符\n",
    "            q_target = r + self.gamma * self.q_table.loc[s_, :].max()\n",
    "        else:\n",
    "            q_target = r  # 下个 state 是 终止符\n",
    "\n",
    "        # 更新 Q 表中 state-action 的值\n",
    "        self.q_table.loc[s, a] += self.lr * (q_target - q_predict)\n"
   ]
  },
  {
   "cell_type": "code",
   "execution_count": null,
   "metadata": {},
   "outputs": [],
   "source": []
  }
 ],
 "metadata": {
  "kernelspec": {
   "display_name": "Python 3",
   "language": "python",
   "name": "python3"
  },
  "language_info": {
   "codemirror_mode": {
    "name": "ipython",
    "version": 3
   },
   "file_extension": ".py",
   "mimetype": "text/x-python",
   "name": "python",
   "nbconvert_exporter": "python",
   "pygments_lexer": "ipython3",
   "version": "3.6.5"
  }
 },
 "nbformat": 4,
 "nbformat_minor": 2
}
