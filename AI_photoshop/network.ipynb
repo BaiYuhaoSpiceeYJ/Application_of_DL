{
 "cells": [
  {
   "cell_type": "code",
   "execution_count": 1,
   "metadata": {},
   "outputs": [
    {
     "name": "stderr",
     "output_type": "stream",
     "text": [
      "E:\\Anaconda3\\lib\\site-packages\\h5py\\__init__.py:36: FutureWarning: Conversion of the second argument of issubdtype from `float` to `np.floating` is deprecated. In future, it will be treated as `np.float64 == np.dtype(float).type`.\n",
      "  from ._conv import register_converters as _register_converters\n"
     ]
    }
   ],
   "source": [
    "# -*- coding: UTF-8 -*-\n",
    "\n",
    "\"\"\"\n",
    "DCGAN 深层卷积的生成对抗网络\n",
    "\"\"\"\n",
    "\n",
    "import tensorflow as tf\n",
    "\n",
    "# Hyper parameter（超参数）\n",
    "EPOCHS = 100\n",
    "BATCH_SIZE = 128\n",
    "LEARNING_RATE = 0.0002\n",
    "BETA_1 = 0.5\n",
    "\n",
    "\n",
    "# 定义判别器模型\n",
    "def discriminator_model():\n",
    "    model = tf.keras.models.Sequential()\n",
    "\n",
    "    model.add(tf.keras.layers.Conv2D(\n",
    "        64,  # 64 个过滤器，输出的深度（depth）是 64\n",
    "        (5, 5),  # 过滤器在二维的大小是（5 * 5）\n",
    "        padding='same',  # same 表示输出的大小不变，因此需要在外围补零2圈\n",
    "        input_shape=(64, 64, 3)  # 输入形状 [64, 64, 3]。3 表示 RGB 三原色\n",
    "    ))\n",
    "    model.add(tf.keras.layers.Activation(\"tanh\"))  # 添加 Tanh 激活层\n",
    "    model.add(tf.keras.layers.MaxPool2D(pool_size=(2, 2)))  # 池化层\n",
    "    model.add(tf.keras.layers.Conv2D(128, (5, 5)))\n",
    "    model.add(tf.keras.layers.Activation(\"tanh\"))\n",
    "    model.add(tf.keras.layers.MaxPool2D(pool_size=(2, 2)))\n",
    "    model.add(tf.keras.layers.Conv2D(128, (5, 5)))\n",
    "    model.add(tf.keras.layers.Activation(\"tanh\"))\n",
    "    model.add(tf.keras.layers.MaxPool2D(pool_size=(2, 2)))\n",
    "    \n",
    "    \n",
    "    model.add(tf.keras.layers.Flatten())  # 扁平化\n",
    "    model.add(tf.keras.layers.Dense(1024))  # 1024 个神经元的全连接层\n",
    "    model.add(tf.keras.layers.Activation(\"tanh\"))\n",
    "    model.add(tf.keras.layers.Dense(1))  # 1 个神经元的全连接层\n",
    "    model.add(tf.keras.layers.Activation(\"sigmoid\"))  # 添加 Sigmoid 激活层\n",
    "\n",
    "    return model\n",
    "\n",
    "\n",
    "# 定义生成器模型\n",
    "# 从随机数来生成图片\n",
    "def generator_model():\n",
    "    model = tf.keras.models.Sequential()\n",
    "    # 输入的维度是 100, 输出维度（神经元个数）是1024 的全连接层\n",
    "    model.add(tf.keras.layers.Dense(input_dim=100, units=1024))\n",
    "    model.add(tf.keras.layers.Activation(\"tanh\"))\n",
    "    model.add(tf.keras.layers.Dense(128 * 8 * 8))  # 8192 个神经元的全连接层\n",
    "    model.add(tf.keras.layers.BatchNormalization())  # 批标准化\n",
    "    model.add(tf.keras.layers.Activation(\"tanh\"))\n",
    "    model.add(tf.keras.layers.Reshape((8, 8, 128), input_shape=(128 * 8 * 8, )))  # 8 x 8 * 128像素\n",
    "    \n",
    "    \n",
    "    model.add(tf.keras.layers.UpSampling2D(size=(2, 2)))  # 16 x 16 * 128像素\n",
    "    model.add(tf.keras.layers.Conv2D(128, (5, 5), padding=\"same\"))\n",
    "    model.add(tf.keras.layers.Activation(\"tanh\"))\n",
    "    \n",
    "    \n",
    "    model.add(tf.keras.layers.UpSampling2D(size=(2, 2)))  # 32 x 32 * 128像素\n",
    "    model.add(tf.keras.layers.Conv2D(128, (5, 5), padding=\"same\"))\n",
    "    model.add(tf.keras.layers.Activation(\"tanh\"))\n",
    "    \n",
    "    \n",
    "    model.add(tf.keras.layers.UpSampling2D(size=(2, 2)))  # 64 x 64 * 3像素\n",
    "    model.add(tf.keras.layers.Conv2D(3, (5, 5), padding=\"same\"))\n",
    "    model.add(tf.keras.layers.Activation(\"tanh\"))\n",
    "\n",
    "    return model\n",
    "\n",
    "\n",
    "# 构造一个 Sequential 对象，包含一个 生成器 和一个 判别器\n",
    "# 输入 -> 生成器 -> 判别器 -> 输出\n",
    "def generator_containing_discriminator(generator, discriminator):\n",
    "    model = tf.keras.models.Sequential()\n",
    "    model.add(generator)\n",
    "    discriminator.trainable = False  # 初始时 判别器 不可被训练\n",
    "    model.add(discriminator)\n",
    "    return model"
   ]
  },
  {
   "cell_type": "code",
   "execution_count": 2,
   "metadata": {},
   "outputs": [],
   "source": []
  },
  {
   "cell_type": "code",
   "execution_count": null,
   "metadata": {},
   "outputs": [],
   "source": []
  }
 ],
 "metadata": {
  "kernelspec": {
   "display_name": "Python 3",
   "language": "python",
   "name": "python3"
  },
  "language_info": {
   "codemirror_mode": {
    "name": "ipython",
    "version": 3
   },
   "file_extension": ".py",
   "mimetype": "text/x-python",
   "name": "python",
   "nbconvert_exporter": "python",
   "pygments_lexer": "ipython3",
   "version": "3.6.5"
  }
 },
 "nbformat": 4,
 "nbformat_minor": 2
}
