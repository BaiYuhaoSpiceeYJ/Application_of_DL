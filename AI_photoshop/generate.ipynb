{
 "cells": [
  {
   "cell_type": "code",
   "execution_count": 1,
   "metadata": {},
   "outputs": [
    {
     "name": "stderr",
     "output_type": "stream",
     "text": [
      "E:\\Anaconda3\\lib\\site-packages\\h5py\\__init__.py:36: FutureWarning: Conversion of the second argument of issubdtype from `float` to `np.floating` is deprecated. In future, it will be treated as `np.float64 == np.dtype(float).type`.\n",
      "  from ._conv import register_converters as _register_converters\n"
     ]
    },
    {
     "name": "stdout",
     "output_type": "stream",
     "text": [
      "128/128 [==============================] - 4s 32ms/step\n"
     ]
    }
   ],
   "source": [
    "# -*- coding: UTF-8 -*-\n",
    "\n",
    "\"\"\"\n",
    "用 DCGAN 的生成器模型 和 训练得到的生成器参数文件 来生成图片\n",
    "\"\"\"\n",
    "\n",
    "import numpy as np\n",
    "from PIL import Image\n",
    "import tensorflow as tf\n",
    "\n",
    "from network import *\n",
    "\n",
    "\n",
    "def generate():\n",
    "    # 构造生成器\n",
    "    g = generator_model()\n",
    "\n",
    "    # 配置 生成器\n",
    "    g.compile(loss=\"binary_crossentropy\", optimizer=tf.keras.optimizers.Adam(lr=LEARNING_RATE, beta_1=BETA_1))\n",
    "\n",
    "    # 加载训练好的 生成器 参数\n",
    "    g.load_weights(\"generator_weight\")\n",
    "\n",
    "    # 连续型均匀分布的随机数据（噪声）\n",
    "    random_data = np.random.uniform(-1, 1, size=(BATCH_SIZE, 100))\n",
    "\n",
    "    # 用随机数据作为输入，生成器 生成图片数据\n",
    "    images = g.predict(random_data, verbose=1)\n",
    "\n",
    "    # 用生成的图片数据生成 PNG 图片\n",
    "    for i in range(BATCH_SIZE):\n",
    "        image = images[i] * 127.5 + 127.5\n",
    "        Image.fromarray(image.astype(np.uint8)).save(\".\\\\generate\\\\image-%s.png\" % i)\n",
    "\n",
    "\n",
    "if __name__ == \"__main__\":\n",
    "    generate()"
   ]
  },
  {
   "cell_type": "code",
   "execution_count": null,
   "metadata": {},
   "outputs": [],
   "source": []
  }
 ],
 "metadata": {
  "kernelspec": {
   "display_name": "Python 3",
   "language": "python",
   "name": "python3"
  },
  "language_info": {
   "codemirror_mode": {
    "name": "ipython",
    "version": 3
   },
   "file_extension": ".py",
   "mimetype": "text/x-python",
   "name": "python",
   "nbconvert_exporter": "python",
   "pygments_lexer": "ipython3",
   "version": "3.6.5"
  }
 },
 "nbformat": 4,
 "nbformat_minor": 2
}
