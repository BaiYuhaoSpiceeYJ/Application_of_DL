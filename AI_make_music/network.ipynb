{
 "cells": [
  {
   "cell_type": "code",
   "execution_count": 1,
   "metadata": {},
   "outputs": [
    {
     "name": "stderr",
     "output_type": "stream",
     "text": [
      "E:\\Anaconda3\\lib\\site-packages\\h5py\\__init__.py:36: FutureWarning: Conversion of the second argument of issubdtype from `float` to `np.floating` is deprecated. In future, it will be treated as `np.float64 == np.dtype(float).type`.\n",
      "  from ._conv import register_converters as _register_converters\n"
     ]
    }
   ],
   "source": [
    "# -*- coding: UTF-8 -*-\n",
    "\n",
    "\"\"\"\n",
    "RNN-LSTM 循环神经网络\n",
    "\"\"\"\n",
    "\n",
    "import tensorflow as tf\n",
    "\n",
    "\n",
    "# 神经网络的模型\n",
    "def network_model(inputs, num_pitch, weights_file=None):#输入，音符数，weights_file用文件保存训练参数在训练时不需要\n",
    "    model = tf.keras.models.Sequential()#线性堆叠的层级模型，类似pipeline，上层输入为下层输入\n",
    "    model.add(tf.keras.layers.LSTM(\n",
    "        512,  # LSTM 层神经元的数目是 512，也是 LSTM 层输出的维度\n",
    "        input_shape=(inputs.shape[1], inputs.shape[2]),  # 输入的形状，对第一个 LSTM 层必须设置\n",
    "        # return_sequences：控制返回类型\n",
    "        # - True：返回所有的输出序列  ABCDEF->BCDEFG全取\n",
    "        # - False：返回输出序列的最后一个输出 BCDEFG->CDEFGA，只取A\n",
    "        # 在堆叠 LSTM 层时必须设置，最后一层 LSTM 可以不用设置\n",
    "        return_sequences=True  # 返回所有的输出序列（Sequences）\n",
    "    ))\n",
    "    model.add(tf.keras.layers.Dropout(0.3))  # 丢弃 30% 神经元，防止过拟合\n",
    "    model.add(tf.keras.layers.LSTM(512, return_sequences=True))\n",
    "    model.add(tf.keras.layers.Dropout(0.3))\n",
    "    model.add(tf.keras.layers.LSTM(512))  # return_sequences 是默认的 False，只返回输出序列的最后一个\n",
    "    model.add(tf.keras.layers.Dense(256))  # 256 个神经元的全连接层\n",
    "    model.add(tf.keras.layers.Dropout(0.3))\n",
    "    model.add(tf.keras.layers.Dense(num_pitch))  # 输出的数目等于所有不重复的音调的数目\n",
    "    model.add(tf.keras.layers.Activation('softmax'))  # Softmax 激活函数算概率\n",
    "    # 交叉熵计算误差，使用对 循环神经网络来说比较优秀的 RMSProp 优化器\n",
    "    # 计算误差（先用 Softmax 计算百分比概率，再用 Cross entropy（交叉熵）来计算百分比概率和对应的独热码之间的误差）\n",
    "    model.compile(loss='categorical_crossentropy', optimizer='rmsprop')#rmsprop优化器比较适合lstm网络\n",
    "\n",
    "    if weights_file is not None:  # 如果是 生成 音乐时\n",
    "        # 从 HDF5 文件中加载所有神经网络层的参数（Weights）\n",
    "        model.load_weights(weights_file)\n",
    "\n",
    "    return model"
   ]
  },
  {
   "cell_type": "code",
   "execution_count": null,
   "metadata": {},
   "outputs": [],
   "source": []
  }
 ],
 "metadata": {
  "kernelspec": {
   "display_name": "Python 3",
   "language": "python",
   "name": "python3"
  },
  "language_info": {
   "codemirror_mode": {
    "name": "ipython",
    "version": 3
   },
   "file_extension": ".py",
   "mimetype": "text/x-python",
   "name": "python",
   "nbconvert_exporter": "python",
   "pygments_lexer": "ipython3",
   "version": "3.6.5"
  }
 },
 "nbformat": 4,
 "nbformat_minor": 2
}
